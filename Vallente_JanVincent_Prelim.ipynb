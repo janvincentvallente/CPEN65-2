{
  "nbformat": 4,
  "nbformat_minor": 0,
  "metadata": {
    "colab": {
      "provenance": [],
      "authorship_tag": "ABX9TyMbMr8AaGGtLJV7S0CcuvLV",
      "include_colab_link": true
    },
    "kernelspec": {
      "name": "python3",
      "display_name": "Python 3"
    },
    "language_info": {
      "name": "python"
    }
  },
  "cells": [
    {
      "cell_type": "markdown",
      "metadata": {
        "id": "view-in-github",
        "colab_type": "text"
      },
      "source": [
        "<a href=\"https://colab.research.google.com/github/janvincentvallente/CPEN65-2/blob/main/Vallente_JanVincent_Prelim.ipynb\" target=\"_parent\"><img src=\"https://colab.research.google.com/assets/colab-badge.svg\" alt=\"Open In Colab\"/></a>"
      ]
    },
    {
      "cell_type": "markdown",
      "source": [
        "Preliminary Examination in Data Structure and Algorithm"
      ],
      "metadata": {
        "id": "Sq4W6fqT7HDU"
      }
    },
    {
      "cell_type": "code",
      "execution_count": 3,
      "metadata": {
        "id": "C9lh-_4l2pmT",
        "colab": {
          "base_uri": "https://localhost:8080/"
        },
        "outputId": "3042442d-3ee3-4041-96f2-935851e3f2db"
      },
      "outputs": [
        {
          "output_type": "stream",
          "name": "stdout",
          "text": [
            "Ana\n",
            "39\n"
          ]
        }
      ],
      "source": [
        "#In the given python program, what is the name of class?\n",
        "#What is the output of this python program?\n",
        "\n",
        "class Person:\n",
        "  def __init__(self,name,age):\n",
        "    self.name = name\n",
        "    self.age = age\n",
        "\n",
        "person = Person(\"Ana\", 39)\n",
        "print(person.name)\n",
        "print(person.age)"
      ]
    },
    {
      "cell_type": "code",
      "source": [
        "#What is the output of the python program?\n",
        "\n",
        "class Rectangle:\n",
        "  def __init__(self,length,width):\n",
        "    self.length = length\n",
        "    self.width = width\n",
        "\n",
        "  def Area(self):\n",
        "    print(self.length * self.width)\n",
        "\n",
        "rect = Rectangle(7, 3)\n",
        "rect.Area()"
      ],
      "metadata": {
        "colab": {
          "base_uri": "https://localhost:8080/"
        },
        "id": "CXDxdUqz76Ms",
        "outputId": "71f8365b-d25f-4f7e-da44-66e0329113d4"
      },
      "execution_count": 5,
      "outputs": [
        {
          "output_type": "stream",
          "name": "stdout",
          "text": [
            "21\n"
          ]
        }
      ]
    }
  ]
}