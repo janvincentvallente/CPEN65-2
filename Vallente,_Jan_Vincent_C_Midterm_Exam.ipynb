{
  "nbformat": 4,
  "nbformat_minor": 0,
  "metadata": {
    "colab": {
      "provenance": [],
      "authorship_tag": "ABX9TyOK8poCkSM8snzartLDmTec",
      "include_colab_link": true
    },
    "kernelspec": {
      "name": "python3",
      "display_name": "Python 3"
    },
    "language_info": {
      "name": "python"
    }
  },
  "cells": [
    {
      "cell_type": "markdown",
      "metadata": {
        "id": "view-in-github",
        "colab_type": "text"
      },
      "source": [
        "<a href=\"https://colab.research.google.com/github/janvincentvallente/CPEN65-2/blob/main/Vallente%2C_Jan_Vincent_C_Midterm_Exam.ipynb\" target=\"_parent\"><img src=\"https://colab.research.google.com/assets/colab-badge.svg\" alt=\"Open In Colab\"/></a>"
      ]
    },
    {
      "cell_type": "markdown",
      "source": [
        "1.\tWrite a Python program to create an array of 10 integers and display the array items. Access individual elements through indexes and compute for the sum."
      ],
      "metadata": {
        "id": "jA62DLef-ZYO"
      }
    },
    {
      "cell_type": "code",
      "execution_count": 71,
      "metadata": {
        "colab": {
          "base_uri": "https://localhost:8080/"
        },
        "id": "PbXBS0w7-EaO",
        "outputId": "14d5f81a-ef2d-4fce-bd4b-da6fb75eda15"
      },
      "outputs": [
        {
          "output_type": "stream",
          "name": "stdout",
          "text": [
            "array('i', [1, 2, 3, 4, 5, 6, 7, 8, 9, 10])\n",
            "Enter first index: 1\n",
            "Enter next index: 5\n",
            "\n",
            "Value of index 1 = 2\n",
            "Value of index 5 = 6\n",
            "Sum of values in index 1 and 5 = 8\n"
          ]
        }
      ],
      "source": [
        "#Write a Python program to create an array of 10 integers and display the array items. Access individual elements through indexes and compute for the sum.\n",
        "\n",
        "#to find the sum of specific indices\n",
        "\n",
        "import array as arr\n",
        "numbers = arr.array ('i', [1,2,3,4,5,6,7,8,9,10])\n",
        "print(numbers)\n",
        "\n",
        "num1 = int((input(\"Enter first index: \")))\n",
        "num2 = int((input(\"Enter next index: \")))\n",
        "\n",
        "print()\n",
        "\n",
        "fi = numbers[num1]\n",
        "si = numbers[num2]\n",
        "print(\"Value of index\", num1, '=', fi)\n",
        "print(\"Value of index\", num2, '=', si)\n",
        "\n",
        "sum = (fi + si)\n",
        "print(\"Sum of values in index\", num1, \"and\", num2, '=' , sum)"
      ]
    },
    {
      "cell_type": "markdown",
      "source": [
        "2.\tWrite a Python program to append a new item to the end of the array. Original array: numbers = [1, 2, 3, 4, 5, 6, 7, 8, 9, 10]"
      ],
      "metadata": {
        "id": "0txvv0dOAqZM"
      }
    },
    {
      "cell_type": "code",
      "source": [
        "#Write a Python program to append a new item to the end of the array. Original array: numbers = [1, 2, 3, 4, 5, 6, 7, 8, 9, 10]\n",
        "\n",
        "import array as arr\n",
        "numbers = arr.array ('i',[1,2,3,4,5,6,7,8,9,10])\n",
        "print(\"Initial array: \", numbers)\n",
        "print() \n",
        "\n",
        "a = int(input(\"Enter a new item: \"))\n",
        "print()\n",
        "\n",
        "numbers.append(a)\n",
        "print(\"New Array: \",numbers)"
      ],
      "metadata": {
        "colab": {
          "base_uri": "https://localhost:8080/"
        },
        "id": "16Gp3bYo-ezP",
        "outputId": "013e77b9-9433-4064-fa3f-40aa76f2ea5c"
      },
      "execution_count": 72,
      "outputs": [
        {
          "output_type": "stream",
          "name": "stdout",
          "text": [
            "Initial array:  array('i', [1, 2, 3, 4, 5, 6, 7, 8, 9, 10])\n",
            "\n",
            "Enter a new item: 11\n",
            "\n",
            "New Array:  array('i', [1, 2, 3, 4, 5, 6, 7, 8, 9, 10, 11])\n"
          ]
        }
      ]
    },
    {
      "cell_type": "markdown",
      "source": [
        "3.\tWrite a Python program to insert a new item before the second element in an existing array. Original array: numbers = [1, 2, 3, 4, 5, 6, 7, 8, 9, 10]"
      ],
      "metadata": {
        "id": "krfjT4AOBgFd"
      }
    },
    {
      "cell_type": "code",
      "source": [
        "#Write a Python program to insert a new item before the second element in an existing array. Original array: numbers = [1, 2, 3, 4, 5, 6, 7, 8, 9, 10]\n",
        "\n",
        "import array as arr\n",
        "numbers = arr.array ('i',[1,2,3,4,5,6,7,8,9,10])\n",
        "print(\"Initial array: \", numbers)\n",
        "print() \n",
        "\n",
        "b = int(input(\"Enter a new item: \"))\n",
        "print()\n",
        "\n",
        "numbers.insert(1,b)\n",
        "print(\"New Array: \",numbers)"
      ],
      "metadata": {
        "colab": {
          "base_uri": "https://localhost:8080/"
        },
        "id": "m4Lmbmq0Bj2k",
        "outputId": "3f6c8aa7-76bd-4601-b38a-56ac13b7e553"
      },
      "execution_count": 73,
      "outputs": [
        {
          "output_type": "stream",
          "name": "stdout",
          "text": [
            "Initial array:  array('i', [1, 2, 3, 4, 5, 6, 7, 8, 9, 10])\n",
            "\n",
            "Enter a new item: 12\n",
            "\n",
            "New Array:  array('i', [1, 12, 2, 3, 4, 5, 6, 7, 8, 9, 10])\n"
          ]
        }
      ]
    },
    {
      "cell_type": "markdown",
      "source": [
        "4.\tWrite a Python program to reverse the order of the items in the array. Original array: numbers = [5, 4, 3, 2, 1]"
      ],
      "metadata": {
        "id": "-PjCOIizCoPd"
      }
    },
    {
      "cell_type": "code",
      "source": [
        "#Write a Python program to reverse the order of the items in the array. Original array: numbers = [5, 4, 3, 2, 1]\n",
        "\n",
        "import array as arr\n",
        "numbers = arr.array ('i',[5,4,3,2,1])\n",
        "print(\"Original array: \", numbers)\n",
        "numbers.reverse()\n",
        "print(\"New array: \", numbers)"
      ],
      "metadata": {
        "colab": {
          "base_uri": "https://localhost:8080/"
        },
        "id": "pAM37_eJCpM8",
        "outputId": "c53bc7e3-c361-4e44-c0d9-658d23985fe7"
      },
      "execution_count": 75,
      "outputs": [
        {
          "output_type": "stream",
          "name": "stdout",
          "text": [
            "Original array:  array('i', [5, 4, 3, 2, 1])\n",
            "New array:  array('i', [1, 2, 3, 4, 5])\n"
          ]
        }
      ]
    },
    {
      "cell_type": "markdown",
      "source": [
        "5.\tWrite a Python program to get the length of the array. Original array: numbers = [5, 4, 3, 2, 1]"
      ],
      "metadata": {
        "id": "SxjRPjjHGdg6"
      }
    },
    {
      "cell_type": "code",
      "source": [
        "#5.\tWrite a Python program to get the length of the array. Original array: numbers = [5, 4, 3, 2, 1]\n",
        "\n",
        "import array as arr\n",
        "numbers = arr.array('i', [5,4,3,2,1])\n",
        "print(numbers)\n",
        "a = len(numbers)\n",
        "print(\"Length:\", a)"
      ],
      "metadata": {
        "colab": {
          "base_uri": "https://localhost:8080/"
        },
        "id": "uBwOL905Gc7M",
        "outputId": "69ae3b8c-3ea2-47e1-ad75-e5eea77b1569"
      },
      "execution_count": 76,
      "outputs": [
        {
          "output_type": "stream",
          "name": "stdout",
          "text": [
            "array('i', [5, 4, 3, 2, 1])\n",
            "Length: 5\n"
          ]
        }
      ]
    }
  ]
}