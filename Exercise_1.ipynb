{
  "nbformat": 4,
  "nbformat_minor": 0,
  "metadata": {
    "colab": {
      "provenance": [],
      "collapsed_sections": [],
      "authorship_tag": "ABX9TyNhgGI2ReCZX8E1qjxcyTnj",
      "include_colab_link": true
    },
    "kernelspec": {
      "name": "python3",
      "display_name": "Python 3"
    },
    "language_info": {
      "name": "python"
    }
  },
  "cells": [
    {
      "cell_type": "markdown",
      "metadata": {
        "id": "view-in-github",
        "colab_type": "text"
      },
      "source": [
        "<a href=\"https://colab.research.google.com/github/janvincentvallente/CPEN65-2/blob/main/Exercise_1.ipynb\" target=\"_parent\"><img src=\"https://colab.research.google.com/assets/colab-badge.svg\" alt=\"Open In Colab\"/></a>"
      ]
    },
    {
      "cell_type": "markdown",
      "source": [
        "Exercise:\n",
        "1. Create a Python program that use Array\n",
        "2. Insert each character of your full name and displays each character of your full name in reverse order"
      ],
      "metadata": {
        "id": "VtIRU34Gy1qd"
      }
    },
    {
      "cell_type": "code",
      "execution_count": 9,
      "metadata": {
        "colab": {
          "base_uri": "https://localhost:8080/"
        },
        "id": "XrKDQg0tyx7S",
        "outputId": "879d466d-b65a-4c26-97c1-fb757f880ffb"
      },
      "outputs": [
        {
          "output_type": "stream",
          "name": "stdout",
          "text": [
            "Enter your name: Jan Vincent Vallente\n",
            "\n",
            "['J', 'a', 'n', ' ', 'V', 'i', 'n', 'c', 'e', 'n', 't', ' ', 'V', 'a', 'l', 'l', 'e', 'n', 't', 'e']\n",
            "\n",
            "e t n e l l a V   t n e c n i V   n a J "
          ]
        }
      ],
      "source": [
        "#Displaying the Elements of the Array in Reverse Order\n",
        "\n",
        "char = []\n",
        "name = input(\"Enter your name: \")\n",
        "\n",
        "for x in name:\n",
        "  char.append(x)\n",
        "print()\n",
        "print(char)\n",
        "print()\n",
        "\n",
        "char.reverse()\n",
        "for x in char:\n",
        "  print(x, end = ' ')"
      ]
    }
  ]
}